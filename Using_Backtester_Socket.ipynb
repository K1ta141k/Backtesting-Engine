{
 "cells": [
  {
   "cell_type": "code",
   "execution_count": 1,
   "id": "268833d6-3168-45c3-b2e0-b87b5402af45",
   "metadata": {},
   "outputs": [],
   "source": [
    "from backtester_socket import Socket\n",
    "import pandas as pd"
   ]
  },
  {
   "cell_type": "code",
   "execution_count": 2,
   "id": "d4dd3d10-c227-4f79-bd10-7755d7c6b719",
   "metadata": {},
   "outputs": [
    {
     "name": "stdout",
     "output_type": "stream",
     "text": [
      "Socket created for IP localhost and port 10157\n",
      "Connected to localhost on port 10157\n"
     ]
    }
   ],
   "source": [
    "client = Socket(\"localhost\", 10157)\n",
    "client.connect()"
   ]
  },
  {
   "cell_type": "markdown",
   "id": "0ef04436-27bc-4ea6-8f13-f9d60a438f95",
   "metadata": {},
   "source": [
    "## Sample strategy with sending random orders\n"
   ]
  },
  {
   "cell_type": "code",
   "execution_count": 3,
   "id": "3cb801d6-68f1-4eb4-b00a-06a50390222d",
   "metadata": {},
   "outputs": [],
   "source": [
    "import random\n",
    "tradelength = 20\n",
    "n_orders = []\n",
    "order_history = []\n",
    "for i in range(20):\n",
    "    stock,option = client.get_data()\n",
    "    orders = {\"contractID\":[],\n",
    "             \"size\":[],\n",
    "             \"action\": []}\n",
    "    new = random.randint(1,10)\n",
    "    n_orders.append(new)\n",
    "    for k in range(new):\n",
    "        row = option.sample()\n",
    "        action = random.randint(0,1)\n",
    "        orders[\"contractID\"].append(row[\"contractID\"].iloc[0])\n",
    "        if action==1:\n",
    "            orders[\"action\"].append(\"B\")\n",
    "        else:\n",
    "            orders[\"action\"].append(\"S\")\n",
    "        orders[\"size\"].append(1)\n",
    "    df_orders = pd.DataFrame(orders)\n",
    "    order_history.append(orders)\n",
    "    client.send_orders(df_orders)\n",
    "client.close()"
   ]
  },
  {
   "cell_type": "code",
   "execution_count": 4,
   "id": "da3f8ea8-3f29-40c0-94e7-e78e90d31714",
   "metadata": {},
   "outputs": [
    {
     "name": "stdout",
     "output_type": "stream",
     "text": [
      "[10, 6, 6, 6, 5, 1, 5, 2, 1, 2, 3, 8, 5, 4, 8, 1, 3, 10, 10, 4]\n"
     ]
    }
   ],
   "source": [
    "print(n_orders)"
   ]
  },
  {
   "cell_type": "code",
   "execution_count": 6,
   "id": "df092732-12d1-482a-916c-434620da65ac",
   "metadata": {},
   "outputs": [
    {
     "name": "stdout",
     "output_type": "stream",
     "text": [
      "Total # of orders sent: 100\n"
     ]
    }
   ],
   "source": [
    "print(f\"Total # of orders sent: {sum(n_orders)}\")"
   ]
  },
  {
   "cell_type": "code",
   "execution_count": 8,
   "id": "885c724a-a168-45a0-9460-7b4e80b75831",
   "metadata": {},
   "outputs": [],
   "source": [
    "order_logs = pd.read_csv(\"logs/sessions/20250119_173024.csv\")"
   ]
  },
  {
   "cell_type": "code",
   "execution_count": 9,
   "id": "9231dbfb-fa55-4d85-a189-a5e07f60de35",
   "metadata": {},
   "outputs": [
    {
     "data": {
      "text/html": [
       "<div>\n",
       "<style scoped>\n",
       "    .dataframe tbody tr th:only-of-type {\n",
       "        vertical-align: middle;\n",
       "    }\n",
       "\n",
       "    .dataframe tbody tr th {\n",
       "        vertical-align: top;\n",
       "    }\n",
       "\n",
       "    .dataframe thead th {\n",
       "        text-align: right;\n",
       "    }\n",
       "</style>\n",
       "<table border=\"1\" class=\"dataframe\">\n",
       "  <thead>\n",
       "    <tr style=\"text-align: right;\">\n",
       "      <th></th>\n",
       "      <th>step</th>\n",
       "      <th>contractID</th>\n",
       "      <th>size</th>\n",
       "      <th>action</th>\n",
       "      <th>status</th>\n",
       "      <th>capital</th>\n",
       "      <th>portfolio value</th>\n",
       "      <th>pnl</th>\n",
       "    </tr>\n",
       "  </thead>\n",
       "  <tbody>\n",
       "    <tr>\n",
       "      <th>0</th>\n",
       "      <td>0</td>\n",
       "      <td>IBM250321P00240000</td>\n",
       "      <td>1</td>\n",
       "      <td>S</td>\n",
       "      <td>Success</td>\n",
       "      <td>10016.1</td>\n",
       "      <td>-17.55</td>\n",
       "      <td>-1.45020</td>\n",
       "    </tr>\n",
       "    <tr>\n",
       "      <th>1</th>\n",
       "      <td>1</td>\n",
       "      <td>IBM260116C00130000</td>\n",
       "      <td>1</td>\n",
       "      <td>B</td>\n",
       "      <td>Success</td>\n",
       "      <td>9911.2</td>\n",
       "      <td>84.35</td>\n",
       "      <td>-4.45117</td>\n",
       "    </tr>\n",
       "    <tr>\n",
       "      <th>2</th>\n",
       "      <td>2</td>\n",
       "      <td>IBM250417C00105000</td>\n",
       "      <td>1</td>\n",
       "      <td>B</td>\n",
       "      <td>Success</td>\n",
       "      <td>9781.2</td>\n",
       "      <td>210.25</td>\n",
       "      <td>-8.55078</td>\n",
       "    </tr>\n",
       "    <tr>\n",
       "      <th>3</th>\n",
       "      <td>3</td>\n",
       "      <td>IBM250718P00240000</td>\n",
       "      <td>1</td>\n",
       "      <td>S</td>\n",
       "      <td>Success</td>\n",
       "      <td>9801.8</td>\n",
       "      <td>187.10</td>\n",
       "      <td>-11.10160</td>\n",
       "    </tr>\n",
       "    <tr>\n",
       "      <th>4</th>\n",
       "      <td>4</td>\n",
       "      <td>IBM270115P00230000</td>\n",
       "      <td>1</td>\n",
       "      <td>B</td>\n",
       "      <td>Success</td>\n",
       "      <td>9773.0</td>\n",
       "      <td>215.05</td>\n",
       "      <td>-11.95120</td>\n",
       "    </tr>\n",
       "  </tbody>\n",
       "</table>\n",
       "</div>"
      ],
      "text/plain": [
       "   step          contractID  size action   status  capital  portfolio value  \\\n",
       "0     0  IBM250321P00240000     1      S  Success  10016.1           -17.55   \n",
       "1     1  IBM260116C00130000     1      B  Success   9911.2            84.35   \n",
       "2     2  IBM250417C00105000     1      B  Success   9781.2           210.25   \n",
       "3     3  IBM250718P00240000     1      S  Success   9801.8           187.10   \n",
       "4     4  IBM270115P00230000     1      B  Success   9773.0           215.05   \n",
       "\n",
       "        pnl  \n",
       "0  -1.45020  \n",
       "1  -4.45117  \n",
       "2  -8.55078  \n",
       "3 -11.10160  \n",
       "4 -11.95120  "
      ]
     },
     "execution_count": 9,
     "metadata": {},
     "output_type": "execute_result"
    }
   ],
   "source": [
    "order_logs.head()"
   ]
  },
  {
   "cell_type": "code",
   "execution_count": 10,
   "id": "3a019c8b-ea2f-47a6-b98e-88b20d9c04e9",
   "metadata": {},
   "outputs": [
    {
     "data": {
      "text/html": [
       "<div>\n",
       "<style scoped>\n",
       "    .dataframe tbody tr th:only-of-type {\n",
       "        vertical-align: middle;\n",
       "    }\n",
       "\n",
       "    .dataframe tbody tr th {\n",
       "        vertical-align: top;\n",
       "    }\n",
       "\n",
       "    .dataframe thead th {\n",
       "        text-align: right;\n",
       "    }\n",
       "</style>\n",
       "<table border=\"1\" class=\"dataframe\">\n",
       "  <thead>\n",
       "    <tr style=\"text-align: right;\">\n",
       "      <th></th>\n",
       "      <th>step</th>\n",
       "      <th>contractID</th>\n",
       "      <th>size</th>\n",
       "      <th>action</th>\n",
       "      <th>status</th>\n",
       "      <th>capital</th>\n",
       "      <th>portfolio value</th>\n",
       "      <th>pnl</th>\n",
       "    </tr>\n",
       "  </thead>\n",
       "  <tbody>\n",
       "    <tr>\n",
       "      <th>95</th>\n",
       "      <td>9</td>\n",
       "      <td>IBM250718C00265000</td>\n",
       "      <td>1</td>\n",
       "      <td>B</td>\n",
       "      <td>Success</td>\n",
       "      <td>9035.13</td>\n",
       "      <td>763.22</td>\n",
       "      <td>-201.649</td>\n",
       "    </tr>\n",
       "    <tr>\n",
       "      <th>96</th>\n",
       "      <td>0</td>\n",
       "      <td>IBM270115C00350000</td>\n",
       "      <td>1</td>\n",
       "      <td>S</td>\n",
       "      <td>Success</td>\n",
       "      <td>9040.93</td>\n",
       "      <td>764.07</td>\n",
       "      <td>-194.999</td>\n",
       "    </tr>\n",
       "    <tr>\n",
       "      <th>97</th>\n",
       "      <td>1</td>\n",
       "      <td>IBM270115P00120000</td>\n",
       "      <td>1</td>\n",
       "      <td>S</td>\n",
       "      <td>Success</td>\n",
       "      <td>9043.04</td>\n",
       "      <td>760.87</td>\n",
       "      <td>-196.089</td>\n",
       "    </tr>\n",
       "    <tr>\n",
       "      <th>98</th>\n",
       "      <td>2</td>\n",
       "      <td>IBM250124C00207500</td>\n",
       "      <td>1</td>\n",
       "      <td>S</td>\n",
       "      <td>Success</td>\n",
       "      <td>9059.19</td>\n",
       "      <td>743.32</td>\n",
       "      <td>-197.488</td>\n",
       "    </tr>\n",
       "    <tr>\n",
       "      <th>99</th>\n",
       "      <td>3</td>\n",
       "      <td>IBM250124C00250000</td>\n",
       "      <td>1</td>\n",
       "      <td>S</td>\n",
       "      <td>Success</td>\n",
       "      <td>9059.20</td>\n",
       "      <td>742.92</td>\n",
       "      <td>-197.879</td>\n",
       "    </tr>\n",
       "  </tbody>\n",
       "</table>\n",
       "</div>"
      ],
      "text/plain": [
       "    step          contractID  size action   status  capital  portfolio value  \\\n",
       "95     9  IBM250718C00265000     1      B  Success  9035.13           763.22   \n",
       "96     0  IBM270115C00350000     1      S  Success  9040.93           764.07   \n",
       "97     1  IBM270115P00120000     1      S  Success  9043.04           760.87   \n",
       "98     2  IBM250124C00207500     1      S  Success  9059.19           743.32   \n",
       "99     3  IBM250124C00250000     1      S  Success  9059.20           742.92   \n",
       "\n",
       "        pnl  \n",
       "95 -201.649  \n",
       "96 -194.999  \n",
       "97 -196.089  \n",
       "98 -197.488  \n",
       "99 -197.879  "
      ]
     },
     "execution_count": 10,
     "metadata": {},
     "output_type": "execute_result"
    }
   ],
   "source": [
    "order_logs.tail()"
   ]
  },
  {
   "cell_type": "code",
   "execution_count": 14,
   "id": "0266007d-a6e9-4e73-9f62-7e62dfe8a77a",
   "metadata": {},
   "outputs": [
    {
     "data": {
      "text/plain": [
       "<Axes: >"
      ]
     },
     "execution_count": 14,
     "metadata": {},
     "output_type": "execute_result"
    },
    {
     "data": {
      "image/png": "[encoded data removed]",
      "text/plain": [
       "<Figure size 640x480 with 1 Axes>"
      ]
     },
     "metadata": {},
     "output_type": "display_data"
    }
   ],
   "source": [
    "import matplotlib as plt\n",
    "order_logs[\"pnl\"].plot()"
   ]
  },
  {
   "cell_type": "code",
   "execution_count": null,
   "id": "cae7cb76-66c1-4447-80bc-f47420048c77",
   "metadata": {},
   "outputs": [],
   "source": []
  }
 ],
 "metadata": {
  "kernelspec": {
   "display_name": "Python 3 (ipykernel)",
   "language": "python",
   "name": "python3"
  },
  "language_info": {
   "codemirror_mode": {
    "name": "ipython",
    "version": 3
   },
   "file_extension": ".py",
   "mimetype": "text/x-python",
   "name": "python",
   "nbconvert_exporter": "python",
   "pygments_lexer": "ipython3",
   "version": "3.12.4"
  }
 },
 "nbformat": 4,
 "nbformat_minor": 5
}
